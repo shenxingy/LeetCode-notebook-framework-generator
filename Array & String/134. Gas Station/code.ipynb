{
  "nbformat": 4,
  "nbformat_minor": 5,
  "metadata": {},
  "cells": [
    {
      "id": "80a92bf0",
      "cell_type": "code",
      "metadata": {},
      "execution_count": null,
      "source": "class Solution(object):\n    def canCompleteCircuit(self, gas, cost):\n        \"\"\"\n        :type gas: List[int]\n        :type cost: List[int]\n        :rtype: int\n        \"\"\"\n\nsolution = Solution()\nsolution.canCompleteCircuit(gas = [1,2,3,4,5], cost = [3,4,5,1,2])\n",
      "outputs": []
    }
  ]
}